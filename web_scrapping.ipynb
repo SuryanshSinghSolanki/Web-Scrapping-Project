{
 "cells": [
  {
   "cell_type": "markdown",
   "id": "2e20a1b6",
   "metadata": {},
   "source": [
    "# Web Scrapping"
   ]
  },
  {
   "cell_type": "markdown",
   "id": "f4958b59",
   "metadata": {},
   "source": [
    "## Overview\n",
    "\n",
    "In this project, we will collect box office data for movies from [Box Office Mojo](https://www.boxofficemojo.com/year/) using web scraping. We will use Python libraries such as `requests` for HTTP requests and `BeautifulSoup` for parsing HTML."
   ]
  },
  {
   "cell_type": "markdown",
   "id": "bb09f3f1",
   "metadata": {},
   "source": [
    "#### Import Required Libraries\n"
   ]
  },
  {
   "cell_type": "code",
   "execution_count": 1,
   "id": "ce3bceae",
   "metadata": {},
   "outputs": [],
   "source": [
    "import numpy as np\n",
    "import pandas as pd\n",
    "import matplotlib.pyplot as plt \n",
    "import seaborn as sns\n",
    "from bs4 import BeautifulSoup #to convert dataset into HTML code\n",
    "import requests"
   ]
  },
  {
   "cell_type": "code",
   "execution_count": 2,
   "id": "a577ad3d",
   "metadata": {},
   "outputs": [],
   "source": [
    "url = \"https://www.boxofficemojo.com/year/?ref_=bo_nb_di_secondarytab\""
   ]
  },
  {
   "cell_type": "code",
   "execution_count": 3,
   "id": "377d5380",
   "metadata": {},
   "outputs": [],
   "source": [
    "content = requests.get(url)"
   ]
  },
  {
   "cell_type": "code",
   "execution_count": 4,
   "id": "98745f35",
   "metadata": {},
   "outputs": [
    {
     "data": {
      "text/plain": [
       "<Response [200]>"
      ]
     },
     "execution_count": 4,
     "metadata": {},
     "output_type": "execute_result"
    }
   ],
   "source": [
    "content"
   ]
  },
  {
   "cell_type": "code",
   "execution_count": 5,
   "id": "ecf2f10a",
   "metadata": {},
   "outputs": [],
   "source": [
    "data = content.text"
   ]
  },
  {
   "cell_type": "code",
   "execution_count": 6,
   "id": "cf19c39a",
   "metadata": {},
   "outputs": [
    {
     "data": {
      "text/plain": [
       "'<!doctype html><html class=\"a-no-js\" data-19ax5a9jf=\"dingo\"><head><script>var aPageStart = (new Date()).getTime();</script><meta charset=\"utf-8\"/>\\n<script type=\\'text/javascript\\'>var ue_t0=ue_t0||+new Date();</script>\\n<script type=\\'text/javascript\\'>\\nwindow.ue_ihb = (window.ue_ihb || window.ueinit || 0) + 1;\\nif (window.ue_ihb === 1) {\\n\\nvar ue_csm = window,\\n    ue_hob = +new Date();\\n(function(d){var e=d.ue=d.ue||{},f=Date.now||function(){return+new Date};e.d=function(b){return f()-(b?0:d.ue_t0)};e.'"
      ]
     },
     "execution_count": 6,
     "metadata": {},
     "output_type": "execute_result"
    }
   ],
   "source": [
    "data[0:500]"
   ]
  },
  {
   "cell_type": "code",
   "execution_count": 7,
   "id": "47c882fb",
   "metadata": {},
   "outputs": [],
   "source": [
    "soup = BeautifulSoup(data, 'html.parser')"
   ]
  },
  {
   "cell_type": "code",
   "execution_count": 8,
   "id": "88da75f1",
   "metadata": {},
   "outputs": [
    {
     "data": {
      "text/plain": [
       "2"
      ]
     },
     "execution_count": 8,
     "metadata": {},
     "output_type": "execute_result"
    }
   ],
   "source": [
    "len(soup)"
   ]
  },
  {
   "cell_type": "code",
   "execution_count": 9,
   "id": "2971870a",
   "metadata": {},
   "outputs": [],
   "source": [
    "# we are collecting all the table rows\n",
    "tr = soup.find_all('tr')"
   ]
  },
  {
   "cell_type": "code",
   "execution_count": 10,
   "id": "91943d95",
   "metadata": {},
   "outputs": [],
   "source": [
    "year = []\n",
    "totalGross = []\n",
    "ly = []\n",
    "totalRelease = []\n",
    "average = []\n",
    "bestRelease = []\n",
    "link = []"
   ]
  },
  {
   "cell_type": "code",
   "execution_count": 11,
   "id": "13bf5512",
   "metadata": {},
   "outputs": [],
   "source": [
    "# We are going to traverse every row and collect all data from website into lists\n",
    "for row in tr[1:]:\n",
    "    li = row.find_all('td')\n",
    "    year.append(li[0].text)\n",
    "    totalGross.append(li[1].text)\n",
    "    ly.append(li[2].text)\n",
    "    totalRelease.append(li[3].text)\n",
    "    average.append(li[4].text)\n",
    "    bestRelease.append(li[5].text)\n",
    "    link.append(\"https://boxofficemojo.com/year/\"+li[0].text)"
   ]
  },
  {
   "cell_type": "code",
   "execution_count": 12,
   "id": "b7dcbb4f",
   "metadata": {},
   "outputs": [
    {
     "data": {
      "text/plain": [
       "(49, 49, 49, 49, 49, 49, 49)"
      ]
     },
     "execution_count": 12,
     "metadata": {},
     "output_type": "execute_result"
    }
   ],
   "source": [
    "# Check data in the list\n",
    "len(year), len(totalGross), len(ly), len(totalRelease), len(average), len(bestRelease), len(link)"
   ]
  },
  {
   "cell_type": "code",
   "execution_count": 13,
   "id": "19170925",
   "metadata": {},
   "outputs": [],
   "source": [
    "# Create a proper dataset\n",
    "data = {\n",
    "    'Year' : year,\n",
    "    'Total Gross' : totalGross,\n",
    "    'LY+-' : ly,\n",
    "    'Total Release' : totalRelease,\n",
    "    'Average Gross' : average,\n",
    "    'Best Movie of Year' : bestRelease,\n",
    "    'Link' : link\n",
    "}"
   ]
  },
  {
   "cell_type": "code",
   "execution_count": 14,
   "id": "03a40ef3",
   "metadata": {},
   "outputs": [],
   "source": [
    "# Creating a DataFrame\n",
    "df = pd.DataFrame(data)"
   ]
  },
  {
   "cell_type": "code",
   "execution_count": 15,
   "id": "21b00b34",
   "metadata": {},
   "outputs": [
    {
     "data": {
      "text/html": [
       "<div>\n",
       "<style scoped>\n",
       "    .dataframe tbody tr th:only-of-type {\n",
       "        vertical-align: middle;\n",
       "    }\n",
       "\n",
       "    .dataframe tbody tr th {\n",
       "        vertical-align: top;\n",
       "    }\n",
       "\n",
       "    .dataframe thead th {\n",
       "        text-align: right;\n",
       "    }\n",
       "</style>\n",
       "<table border=\"1\" class=\"dataframe\">\n",
       "  <thead>\n",
       "    <tr style=\"text-align: right;\">\n",
       "      <th></th>\n",
       "      <th>Year</th>\n",
       "      <th>Total Gross</th>\n",
       "      <th>LY+-</th>\n",
       "      <th>Total Release</th>\n",
       "      <th>Average Gross</th>\n",
       "      <th>Best Movie of Year</th>\n",
       "      <th>Link</th>\n",
       "    </tr>\n",
       "  </thead>\n",
       "  <tbody>\n",
       "    <tr>\n",
       "      <th>0</th>\n",
       "      <td>2025</td>\n",
       "      <td>$5,332,398,608</td>\n",
       "      <td>-</td>\n",
       "      <td>404</td>\n",
       "      <td>$13,199,006</td>\n",
       "      <td>A Minecraft Movie</td>\n",
       "      <td>https://boxofficemojo.com/year/2025</td>\n",
       "    </tr>\n",
       "    <tr>\n",
       "      <th>1</th>\n",
       "      <td>2024</td>\n",
       "      <td>$8,570,012,657</td>\n",
       "      <td>-3.8%</td>\n",
       "      <td>675</td>\n",
       "      <td>$12,696,315</td>\n",
       "      <td>Inside Out 2</td>\n",
       "      <td>https://boxofficemojo.com/year/2024</td>\n",
       "    </tr>\n",
       "    <tr>\n",
       "      <th>2</th>\n",
       "      <td>2023</td>\n",
       "      <td>$8,907,111,984</td>\n",
       "      <td>+20.9%</td>\n",
       "      <td>592</td>\n",
       "      <td>$15,045,797</td>\n",
       "      <td>Barbie</td>\n",
       "      <td>https://boxofficemojo.com/year/2023</td>\n",
       "    </tr>\n",
       "    <tr>\n",
       "      <th>3</th>\n",
       "      <td>2022</td>\n",
       "      <td>$7,369,914,732</td>\n",
       "      <td>+64.4%</td>\n",
       "      <td>502</td>\n",
       "      <td>$14,681,105</td>\n",
       "      <td>Top Gun: Maverick</td>\n",
       "      <td>https://boxofficemojo.com/year/2022</td>\n",
       "    </tr>\n",
       "    <tr>\n",
       "      <th>4</th>\n",
       "      <td>2021</td>\n",
       "      <td>$4,483,016,589</td>\n",
       "      <td>+112.1%</td>\n",
       "      <td>442</td>\n",
       "      <td>$10,142,571</td>\n",
       "      <td>Spider-Man: No Way Home</td>\n",
       "      <td>https://boxofficemojo.com/year/2021</td>\n",
       "    </tr>\n",
       "  </tbody>\n",
       "</table>\n",
       "</div>"
      ],
      "text/plain": [
       "   Year     Total Gross     LY+- Total Release Average Gross  \\\n",
       "0  2025  $5,332,398,608        -           404   $13,199,006   \n",
       "1  2024  $8,570,012,657    -3.8%           675   $12,696,315   \n",
       "2  2023  $8,907,111,984   +20.9%           592   $15,045,797   \n",
       "3  2022  $7,369,914,732   +64.4%           502   $14,681,105   \n",
       "4  2021  $4,483,016,589  +112.1%           442   $10,142,571   \n",
       "\n",
       "        Best Movie of Year                                 Link  \n",
       "0        A Minecraft Movie  https://boxofficemojo.com/year/2025  \n",
       "1             Inside Out 2  https://boxofficemojo.com/year/2024  \n",
       "2                   Barbie  https://boxofficemojo.com/year/2023  \n",
       "3        Top Gun: Maverick  https://boxofficemojo.com/year/2022  \n",
       "4  Spider-Man: No Way Home  https://boxofficemojo.com/year/2021  "
      ]
     },
     "execution_count": 15,
     "metadata": {},
     "output_type": "execute_result"
    }
   ],
   "source": [
    "df.head()"
   ]
  },
  {
   "cell_type": "code",
   "execution_count": 16,
   "id": "3b6d82b9",
   "metadata": {},
   "outputs": [
    {
     "data": {
      "text/plain": [
       "(49, 7)"
      ]
     },
     "execution_count": 16,
     "metadata": {},
     "output_type": "execute_result"
    }
   ],
   "source": [
    "df.shape"
   ]
  },
  {
   "cell_type": "code",
   "execution_count": 17,
   "id": "91d2fc86",
   "metadata": {},
   "outputs": [],
   "source": [
    "rank = []\n",
    "movie = []\n",
    "gross = []\n",
    "theater = []\n",
    "total_gross = []\n",
    "release_date = []\n",
    "distributor = []"
   ]
  },
  {
   "cell_type": "code",
   "execution_count": 18,
   "id": "70fbed10",
   "metadata": {},
   "outputs": [],
   "source": [
    "for url in df['Link']:\n",
    "    soup = requests.get(url)\n",
    "    data = BeautifulSoup(soup.text, 'html.parser')\n",
    "    rows = data.find_all('tr')\n",
    "    for row in rows[1:]:\n",
    "        li = row.find_all('td')\n",
    "        rank.append(li[0].text)\n",
    "        movie.append(li[1].text)\n",
    "        gross.append(li[5].text)\n",
    "        theater.append(li[6].text)\n",
    "        total_gross.append(li[7].text)\n",
    "        release_date.append(li[8].text)\n",
    "        distributor.append(li[9].text)"
   ]
  },
  {
   "cell_type": "code",
   "execution_count": 19,
   "id": "be3ce8ac",
   "metadata": {},
   "outputs": [],
   "source": [
    "data = {\n",
    "    'Rank' : rank,\n",
    "    'Movie Name' : movie,\n",
    "    'Gross' : gross,\n",
    "    'Theater' : theater,\n",
    "    'Total Gross' : total_gross,\n",
    "    'Release Date' : release_date,\n",
    "    'Distributor' : distributor\n",
    "}"
   ]
  },
  {
   "cell_type": "code",
   "execution_count": 20,
   "id": "cd3b22a4",
   "metadata": {},
   "outputs": [
    {
     "data": {
      "text/html": [
       "<div>\n",
       "<style scoped>\n",
       "    .dataframe tbody tr th:only-of-type {\n",
       "        vertical-align: middle;\n",
       "    }\n",
       "\n",
       "    .dataframe tbody tr th {\n",
       "        vertical-align: top;\n",
       "    }\n",
       "\n",
       "    .dataframe thead th {\n",
       "        text-align: right;\n",
       "    }\n",
       "</style>\n",
       "<table border=\"1\" class=\"dataframe\">\n",
       "  <thead>\n",
       "    <tr style=\"text-align: right;\">\n",
       "      <th></th>\n",
       "      <th>Rank</th>\n",
       "      <th>Movie Name</th>\n",
       "      <th>Gross</th>\n",
       "      <th>Theater</th>\n",
       "      <th>Total Gross</th>\n",
       "      <th>Release Date</th>\n",
       "      <th>Distributor</th>\n",
       "    </tr>\n",
       "  </thead>\n",
       "  <tbody>\n",
       "    <tr>\n",
       "      <th>0</th>\n",
       "      <td>1</td>\n",
       "      <td>A Minecraft Movie</td>\n",
       "      <td>$423,949,195</td>\n",
       "      <td>4,289</td>\n",
       "      <td>$423,949,195</td>\n",
       "      <td>Apr 4</td>\n",
       "      <td>Warner Bros.\\n\\n</td>\n",
       "    </tr>\n",
       "    <tr>\n",
       "      <th>1</th>\n",
       "      <td>2</td>\n",
       "      <td>Lilo &amp; Stitch</td>\n",
       "      <td>$421,275,270</td>\n",
       "      <td>4,410</td>\n",
       "      <td>$421,275,270</td>\n",
       "      <td>May 23</td>\n",
       "      <td>Walt Disney Studios Motion Pictures\\n\\n</td>\n",
       "    </tr>\n",
       "    <tr>\n",
       "      <th>2</th>\n",
       "      <td>3</td>\n",
       "      <td>Jurassic World: Rebirth</td>\n",
       "      <td>$317,672,050</td>\n",
       "      <td>4,324</td>\n",
       "      <td>$317,672,050</td>\n",
       "      <td>Jul 2</td>\n",
       "      <td>Universal Pictures\\n\\n</td>\n",
       "    </tr>\n",
       "    <tr>\n",
       "      <th>3</th>\n",
       "      <td>4</td>\n",
       "      <td>Superman</td>\n",
       "      <td>$316,062,454</td>\n",
       "      <td>4,275</td>\n",
       "      <td>$316,062,454</td>\n",
       "      <td>Jul 11</td>\n",
       "      <td>Warner Bros.\\n\\n</td>\n",
       "    </tr>\n",
       "    <tr>\n",
       "      <th>4</th>\n",
       "      <td>5</td>\n",
       "      <td>Sinners</td>\n",
       "      <td>$278,578,513</td>\n",
       "      <td>3,518</td>\n",
       "      <td>$278,578,513</td>\n",
       "      <td>Apr 18</td>\n",
       "      <td>Warner Bros.\\n\\n</td>\n",
       "    </tr>\n",
       "    <tr>\n",
       "      <th>...</th>\n",
       "      <td>...</td>\n",
       "      <td>...</td>\n",
       "      <td>...</td>\n",
       "      <td>...</td>\n",
       "      <td>...</td>\n",
       "      <td>...</td>\n",
       "      <td>...</td>\n",
       "    </tr>\n",
       "    <tr>\n",
       "      <th>8822</th>\n",
       "      <td>5</td>\n",
       "      <td>Exorcist II: The Heretic</td>\n",
       "      <td>$30,749,142</td>\n",
       "      <td>703</td>\n",
       "      <td>$30,749,142</td>\n",
       "      <td>Jun 17</td>\n",
       "      <td>Warner Bros.\\n\\n</td>\n",
       "    </tr>\n",
       "    <tr>\n",
       "      <th>8823</th>\n",
       "      <td>6</td>\n",
       "      <td>The Turning Point</td>\n",
       "      <td>$25,815,410</td>\n",
       "      <td>5</td>\n",
       "      <td>$25,933,445</td>\n",
       "      <td>Nov 14</td>\n",
       "      <td>Twentieth Century Fox\\n\\n</td>\n",
       "    </tr>\n",
       "    <tr>\n",
       "      <th>8824</th>\n",
       "      <td>7</td>\n",
       "      <td>Looking for Mr. Goodbar</td>\n",
       "      <td>$22,512,655</td>\n",
       "      <td>110</td>\n",
       "      <td>$22,512,655</td>\n",
       "      <td>Oct 19</td>\n",
       "      <td>Paramount Pictures\\n\\n</td>\n",
       "    </tr>\n",
       "    <tr>\n",
       "      <th>8825</th>\n",
       "      <td>8</td>\n",
       "      <td>Saturday Night Fever</td>\n",
       "      <td>$18,234,852</td>\n",
       "      <td>726</td>\n",
       "      <td>$94,213,184</td>\n",
       "      <td>Dec 16</td>\n",
       "      <td>Paramount Pictures\\n\\n</td>\n",
       "    </tr>\n",
       "    <tr>\n",
       "      <th>8826</th>\n",
       "      <td>9</td>\n",
       "      <td>Close Encounters of the Third Kind</td>\n",
       "      <td>$16,172,445</td>\n",
       "      <td>650</td>\n",
       "      <td>$116,395,460</td>\n",
       "      <td>Nov 16</td>\n",
       "      <td>Columbia Pictures\\n\\n</td>\n",
       "    </tr>\n",
       "  </tbody>\n",
       "</table>\n",
       "<p>8827 rows × 7 columns</p>\n",
       "</div>"
      ],
      "text/plain": [
       "     Rank                          Movie Name         Gross Theater  \\\n",
       "0       1                   A Minecraft Movie  $423,949,195   4,289   \n",
       "1       2                       Lilo & Stitch  $421,275,270   4,410   \n",
       "2       3             Jurassic World: Rebirth  $317,672,050   4,324   \n",
       "3       4                            Superman  $316,062,454   4,275   \n",
       "4       5                             Sinners  $278,578,513   3,518   \n",
       "...   ...                                 ...           ...     ...   \n",
       "8822    5            Exorcist II: The Heretic   $30,749,142     703   \n",
       "8823    6                   The Turning Point   $25,815,410       5   \n",
       "8824    7             Looking for Mr. Goodbar   $22,512,655     110   \n",
       "8825    8                Saturday Night Fever   $18,234,852     726   \n",
       "8826    9  Close Encounters of the Third Kind   $16,172,445     650   \n",
       "\n",
       "       Total Gross Release Date                              Distributor  \n",
       "0     $423,949,195        Apr 4                         Warner Bros.\\n\\n  \n",
       "1     $421,275,270       May 23  Walt Disney Studios Motion Pictures\\n\\n  \n",
       "2     $317,672,050        Jul 2                   Universal Pictures\\n\\n  \n",
       "3     $316,062,454       Jul 11                         Warner Bros.\\n\\n  \n",
       "4     $278,578,513       Apr 18                         Warner Bros.\\n\\n  \n",
       "...            ...          ...                                      ...  \n",
       "8822   $30,749,142       Jun 17                         Warner Bros.\\n\\n  \n",
       "8823   $25,933,445       Nov 14                Twentieth Century Fox\\n\\n  \n",
       "8824   $22,512,655       Oct 19                   Paramount Pictures\\n\\n  \n",
       "8825   $94,213,184       Dec 16                   Paramount Pictures\\n\\n  \n",
       "8826  $116,395,460       Nov 16                    Columbia Pictures\\n\\n  \n",
       "\n",
       "[8827 rows x 7 columns]"
      ]
     },
     "execution_count": 20,
     "metadata": {},
     "output_type": "execute_result"
    }
   ],
   "source": [
    "final_df = pd.DataFrame(data)\n",
    "final_df"
   ]
  },
  {
   "cell_type": "code",
   "execution_count": 21,
   "id": "39bb98ff",
   "metadata": {},
   "outputs": [
    {
     "data": {
      "text/html": [
       "<div>\n",
       "<style scoped>\n",
       "    .dataframe tbody tr th:only-of-type {\n",
       "        vertical-align: middle;\n",
       "    }\n",
       "\n",
       "    .dataframe tbody tr th {\n",
       "        vertical-align: top;\n",
       "    }\n",
       "\n",
       "    .dataframe thead th {\n",
       "        text-align: right;\n",
       "    }\n",
       "</style>\n",
       "<table border=\"1\" class=\"dataframe\">\n",
       "  <thead>\n",
       "    <tr style=\"text-align: right;\">\n",
       "      <th></th>\n",
       "      <th>Rank</th>\n",
       "      <th>Movie Name</th>\n",
       "      <th>Gross</th>\n",
       "      <th>Theater</th>\n",
       "      <th>Total Gross</th>\n",
       "      <th>Release Date</th>\n",
       "      <th>Distributor</th>\n",
       "    </tr>\n",
       "  </thead>\n",
       "  <tbody>\n",
       "    <tr>\n",
       "      <th>0</th>\n",
       "      <td>1</td>\n",
       "      <td>A Minecraft Movie</td>\n",
       "      <td>$423,949,195</td>\n",
       "      <td>4,289</td>\n",
       "      <td>$423,949,195</td>\n",
       "      <td>Apr 4</td>\n",
       "      <td>Warner Bros.\\n\\n</td>\n",
       "    </tr>\n",
       "    <tr>\n",
       "      <th>1</th>\n",
       "      <td>2</td>\n",
       "      <td>Lilo &amp; Stitch</td>\n",
       "      <td>$421,275,270</td>\n",
       "      <td>4,410</td>\n",
       "      <td>$421,275,270</td>\n",
       "      <td>May 23</td>\n",
       "      <td>Walt Disney Studios Motion Pictures\\n\\n</td>\n",
       "    </tr>\n",
       "    <tr>\n",
       "      <th>2</th>\n",
       "      <td>3</td>\n",
       "      <td>Jurassic World: Rebirth</td>\n",
       "      <td>$317,672,050</td>\n",
       "      <td>4,324</td>\n",
       "      <td>$317,672,050</td>\n",
       "      <td>Jul 2</td>\n",
       "      <td>Universal Pictures\\n\\n</td>\n",
       "    </tr>\n",
       "    <tr>\n",
       "      <th>3</th>\n",
       "      <td>4</td>\n",
       "      <td>Superman</td>\n",
       "      <td>$316,062,454</td>\n",
       "      <td>4,275</td>\n",
       "      <td>$316,062,454</td>\n",
       "      <td>Jul 11</td>\n",
       "      <td>Warner Bros.\\n\\n</td>\n",
       "    </tr>\n",
       "    <tr>\n",
       "      <th>4</th>\n",
       "      <td>5</td>\n",
       "      <td>Sinners</td>\n",
       "      <td>$278,578,513</td>\n",
       "      <td>3,518</td>\n",
       "      <td>$278,578,513</td>\n",
       "      <td>Apr 18</td>\n",
       "      <td>Warner Bros.\\n\\n</td>\n",
       "    </tr>\n",
       "  </tbody>\n",
       "</table>\n",
       "</div>"
      ],
      "text/plain": [
       "  Rank               Movie Name         Gross Theater   Total Gross  \\\n",
       "0    1        A Minecraft Movie  $423,949,195   4,289  $423,949,195   \n",
       "1    2            Lilo & Stitch  $421,275,270   4,410  $421,275,270   \n",
       "2    3  Jurassic World: Rebirth  $317,672,050   4,324  $317,672,050   \n",
       "3    4                 Superman  $316,062,454   4,275  $316,062,454   \n",
       "4    5                  Sinners  $278,578,513   3,518  $278,578,513   \n",
       "\n",
       "  Release Date                              Distributor  \n",
       "0        Apr 4                         Warner Bros.\\n\\n  \n",
       "1       May 23  Walt Disney Studios Motion Pictures\\n\\n  \n",
       "2        Jul 2                   Universal Pictures\\n\\n  \n",
       "3       Jul 11                         Warner Bros.\\n\\n  \n",
       "4       Apr 18                         Warner Bros.\\n\\n  "
      ]
     },
     "execution_count": 21,
     "metadata": {},
     "output_type": "execute_result"
    }
   ],
   "source": [
    "final_df.head()"
   ]
  },
  {
   "cell_type": "code",
   "execution_count": 22,
   "id": "4843fa4a",
   "metadata": {},
   "outputs": [
    {
     "data": {
      "text/plain": [
       "(8827, 7)"
      ]
     },
     "execution_count": 22,
     "metadata": {},
     "output_type": "execute_result"
    }
   ],
   "source": [
    "final_df.shape"
   ]
  }
 ],
 "metadata": {
  "kernelspec": {
   "display_name": "Python 3",
   "language": "python",
   "name": "python3"
  },
  "language_info": {
   "codemirror_mode": {
    "name": "ipython",
    "version": 3
   },
   "file_extension": ".py",
   "mimetype": "text/x-python",
   "name": "python",
   "nbconvert_exporter": "python",
   "pygments_lexer": "ipython3",
   "version": "3.11.9"
  }
 },
 "nbformat": 4,
 "nbformat_minor": 5
}
